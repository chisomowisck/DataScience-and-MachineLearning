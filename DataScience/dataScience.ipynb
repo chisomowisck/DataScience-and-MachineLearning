{
 "cells": [
  {
   "cell_type": "code",
   "execution_count": 2,
   "metadata": {},
   "outputs": [],
   "source": [
    "import pandas as pd\n",
    "data=pd.read_csv('Ecommerce Reviews.csv') "
   ]
  },
  {
   "cell_type": "code",
   "execution_count": 6,
   "metadata": {},
   "outputs": [
    {
     "name": "stdout",
     "output_type": "stream",
     "text": [
      "   ID   Cloth ID  Age                                Review  Rating   Category\n",
      "0   0        767   33                                   NaN       4  Intimates\n",
      "1   1       1080   34                                   NaN       5    Dresses\n",
      "2   2       1077   60               Some major design flaws       3    Dresses\n",
      "3   3       1049   50                      My favorite buy!       5      Pants\n",
      "4   4        847   47                      Flattering shirt       5    Blouses\n",
      "5   5       1080   49               Not for the very petite       2    Dresses\n",
      "6   6        858   39                  Cagrcoal shimmer fun       5      Knits\n",
      "7   7        858   39  Shimmer, surprisingly goes with lots       4      Knits\n",
      "8   8       1077   24                            Flattering       5    Dresses\n",
      "9   9       1077   34                     Such a fun dress!       5    Dresses\n"
     ]
    }
   ],
   "source": [
    "print(data.head(10))"
   ]
  },
  {
   "cell_type": "code",
   "execution_count": 7,
   "metadata": {},
   "outputs": [
    {
     "name": "stdout",
     "output_type": "stream",
     "text": [
      "          ID   Cloth ID  Age  \\\n",
      "23476  23476        522   27   \n",
      "23477  23477       1094   39   \n",
      "23478  23478       1104   32   \n",
      "23479  23479       1005   42   \n",
      "23480  23480        862   35   \n",
      "23481  23481       1104   34   \n",
      "23482  23482        862   48   \n",
      "23483  23483       1104   31   \n",
      "23484  23484       1084   28   \n",
      "23485  23485       1104   52   \n",
      "\n",
      "                                                  Review  Rating Category  \n",
      "23476                                            Cheeky!       4     Swim  \n",
      "23477                                         Entrancing       4  Dresses  \n",
      "23478                                       Unflattering       1  Dresses  \n",
      "23479                                  What a fun piece!       5   Skirts  \n",
      "23480                                                NaN       5    Knits  \n",
      "23481                     Great dress for many occasions       5  Dresses  \n",
      "23482                         Wish it was made of cotton       3    Knits  \n",
      "23483                              Cute, but see through       3  Dresses  \n",
      "23484  Very cute dress, perfect for summer parties an...       3  Dresses  \n",
      "23485                    Please make more like this one!       5  Dresses  \n"
     ]
    }
   ],
   "source": [
    "print(data.tail(10))"
   ]
  },
  {
   "cell_type": "code",
   "execution_count": 8,
   "metadata": {},
   "outputs": [
    {
     "name": "stdout",
     "output_type": "stream",
     "text": [
      "Index(['ID', ' Cloth ID', 'Age', 'Review', 'Rating', 'Category'], dtype='object')\n"
     ]
    }
   ],
   "source": [
    "print(data.columns)"
   ]
  },
  {
   "cell_type": "code",
   "execution_count": 9,
   "metadata": {},
   "outputs": [
    {
     "name": "stdout",
     "output_type": "stream",
     "text": [
      "        Cloth ID  Age                                             Review  \\\n",
      "ID                                                                         \n",
      "0            767   33                                                NaN   \n",
      "1           1080   34                                                NaN   \n",
      "2           1077   60                            Some major design flaws   \n",
      "3           1049   50                                   My favorite buy!   \n",
      "4            847   47                                   Flattering shirt   \n",
      "5           1080   49                            Not for the very petite   \n",
      "6            858   39                               Cagrcoal shimmer fun   \n",
      "7            858   39               Shimmer, surprisingly goes with lots   \n",
      "8           1077   24                                         Flattering   \n",
      "9           1077   34                                  Such a fun dress!   \n",
      "10          1077   53       Dress looks like it's made of cheap material   \n",
      "11          1095   39                                                NaN   \n",
      "12          1095   53                                         Perfect!!!   \n",
      "13           767   44                                           Runs big   \n",
      "14          1077   50                Pretty party dress with some issues   \n",
      "15          1065   47                          Nice, but not for my body   \n",
      "16          1065   34  You need to be at least average height, or taller   \n",
      "17           853   41                       Looks great with white pants   \n",
      "18          1120   32                                Super cute and cozy   \n",
      "19          1077   47                            Stylish and comfortable   \n",
      "20           847   33                                  Cute, crisp shirt   \n",
      "21          1080   55                                          I'm torn!   \n",
      "22          1077   31                             Not what it looks like   \n",
      "23          1077   34                        Like it, but don't love it.   \n",
      "24           847   55                                          Versatile   \n",
      "25           697   31                                         Falls flat   \n",
      "26           949   33                                Huge disappointment   \n",
      "27          1003   31                                Loved, but returned   \n",
      "28           684   53                                     Great shirt!!!   \n",
      "29             4   28                               Great layering piece   \n",
      "...          ...  ...                                                ...   \n",
      "23456       1104   35                Flattering and lovely sweater dress   \n",
      "23457        262   49                                           Adorable   \n",
      "23458        862   63                                                NaN   \n",
      "23459       1094   57                                Perfect except slip   \n",
      "23460       1078   34                                   Such high hopes!   \n",
      "23461        262   49         Comfortable but not super-flattering on me   \n",
      "23462        999   24                                           Its okay   \n",
      "23463        262   65                                        Comfy pants   \n",
      "23464       1104   42                                        Compliments   \n",
      "23465       1078   41                                       Falls nicely   \n",
      "23466       1104   34                                     Cute and comfy   \n",
      "23467       1104   60                                  Super flattering!   \n",
      "23468        721   35                                      Sweet stripes   \n",
      "23469        262   50                                     Comfy and cute   \n",
      "23470       1104   39                                                NaN   \n",
      "23471        262   31                                 Awkward fit for me   \n",
      "23472        855   32                                   Perfectly drapey   \n",
      "23473       1104   29                                      Perfect dress   \n",
      "23474       1104   32                             Much better in person!   \n",
      "23475       1104   41                                         Cute dress   \n",
      "23476        522   27                                            Cheeky!   \n",
      "23477       1094   39                                         Entrancing   \n",
      "23478       1104   32                                       Unflattering   \n",
      "23479       1005   42                                  What a fun piece!   \n",
      "23480        862   35                                                NaN   \n",
      "23481       1104   34                     Great dress for many occasions   \n",
      "23482        862   48                         Wish it was made of cotton   \n",
      "23483       1104   31                              Cute, but see through   \n",
      "23484       1084   28  Very cute dress, perfect for summer parties an...   \n",
      "23485       1104   52                    Please make more like this one!   \n",
      "\n",
      "       Rating   Category  \n",
      "ID                        \n",
      "0           4  Intimates  \n",
      "1           5    Dresses  \n",
      "2           3    Dresses  \n",
      "3           5      Pants  \n",
      "4           5    Blouses  \n",
      "5           2    Dresses  \n",
      "6           5      Knits  \n",
      "7           4      Knits  \n",
      "8           5    Dresses  \n",
      "9           5    Dresses  \n",
      "10          3    Dresses  \n",
      "11          5    Dresses  \n",
      "12          5    Dresses  \n",
      "13          5  Intimates  \n",
      "14          3    Dresses  \n",
      "15          4      Pants  \n",
      "16          3      Pants  \n",
      "17          5    Blouses  \n",
      "18          5  Outerwear  \n",
      "19          5    Dresses  \n",
      "20          4    Blouses  \n",
      "21          4    Dresses  \n",
      "22          2    Dresses  \n",
      "23          3    Dresses  \n",
      "24          5    Blouses  \n",
      "25          3     Lounge  \n",
      "26          2   Sweaters  \n",
      "27          4     Skirts  \n",
      "28          5     Lounge  \n",
      "29          5   Sweaters  \n",
      "...       ...        ...  \n",
      "23456       5    Dresses  \n",
      "23457       5     Lounge  \n",
      "23458       5      Knits  \n",
      "23459       4    Dresses  \n",
      "23460       3    Dresses  \n",
      "23461       4     Lounge  \n",
      "23462       3     Skirts  \n",
      "23463       4     Lounge  \n",
      "23464       5    Dresses  \n",
      "23465       5    Dresses  \n",
      "23466       4    Dresses  \n",
      "23467       5    Dresses  \n",
      "23468       5     Lounge  \n",
      "23469       4     Lounge  \n",
      "23470       5    Dresses  \n",
      "23471       4     Lounge  \n",
      "23472       5      Knits  \n",
      "23473       5    Dresses  \n",
      "23474       5    Dresses  \n",
      "23475       3    Dresses  \n",
      "23476       4       Swim  \n",
      "23477       4    Dresses  \n",
      "23478       1    Dresses  \n",
      "23479       5     Skirts  \n",
      "23480       5      Knits  \n",
      "23481       5    Dresses  \n",
      "23482       3      Knits  \n",
      "23483       3    Dresses  \n",
      "23484       3    Dresses  \n",
      "23485       5    Dresses  \n",
      "\n",
      "[23486 rows x 5 columns]\n"
     ]
    }
   ],
   "source": [
    "print(data.set_index('ID'))"
   ]
  },
  {
   "cell_type": "code",
   "execution_count": null,
   "metadata": {},
   "outputs": [],
   "source": []
  }
 ],
 "metadata": {
  "kernelspec": {
   "display_name": "Python 3",
   "language": "python",
   "name": "python3"
  },
  "language_info": {
   "codemirror_mode": {
    "name": "ipython",
    "version": 3
   },
   "file_extension": ".py",
   "mimetype": "text/x-python",
   "name": "python",
   "nbconvert_exporter": "python",
   "pygments_lexer": "ipython3",
   "version": "3.7.0"
  }
 },
 "nbformat": 4,
 "nbformat_minor": 2
}
