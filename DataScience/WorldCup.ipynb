{
 "cells": [
  {
   "cell_type": "code",
   "execution_count": 15,
   "metadata": {},
   "outputs": [],
   "source": [
    "import pandas as pd\n",
    "players = pd.read_csv('C:/Users/DreGoC/Videos/Data/datasets/WorldCupPlayers.csv')\n",
    "matches = pd.read_csv('C:/Users/DreGoC/Videos/Data/datasets/WorldCupMatches.csv')\n",
    "worldcups = pd.read_csv('C:/Users/DreGoC/Videos/Data/datasets/WorldCups.csv')"
   ]
  },
  {
   "cell_type": "code",
   "execution_count": 17,
   "metadata": {
    "scrolled": true
   },
   "outputs": [
    {
     "name": "stdout",
     "output_type": "stream",
     "text": [
      "Index(['RoundID', 'MatchID', 'Team Initials', 'Coach Name', 'Line-up',\n",
      "       'Shirt Number', 'Player Name', 'Position', 'Event'],\n",
      "      dtype='object')\n"
     ]
    }
   ],
   "source": [
    "print(players.columns)"
   ]
  },
  {
   "cell_type": "code",
   "execution_count": 18,
   "metadata": {},
   "outputs": [
    {
     "name": "stdout",
     "output_type": "stream",
     "text": [
      "Index(['Year', 'Datetime', 'Stage', 'Stadium', 'City', 'Home Team Name',\n",
      "       'Home Team Goals', 'Away Team Goals', 'Away Team Name',\n",
      "       'Win conditions', 'Attendance', 'Half-time Home Goals',\n",
      "       'Half-time Away Goals', 'Referee', 'Assistant 1', 'Assistant 2',\n",
      "       'RoundID', 'MatchID', 'Home Team Initials', 'Away Team Initials'],\n",
      "      dtype='object')\n"
     ]
    }
   ],
   "source": [
    "print(matches.columns)"
   ]
  },
  {
   "cell_type": "code",
   "execution_count": 20,
   "metadata": {},
   "outputs": [
    {
     "name": "stdout",
     "output_type": "stream",
     "text": [
      "Index(['Year', 'Country', 'Winner', 'Runners-Up', 'Third', 'Fourth',\n",
      "       'GoalsScored', 'QualifiedTeams', 'MatchesPlayed', 'Attendance'],\n",
      "      dtype='object')\n"
     ]
    }
   ],
   "source": [
    "print(worldcups.columns)"
   ]
  },
  {
   "cell_type": "code",
   "execution_count": 21,
   "metadata": {},
   "outputs": [
    {
     "name": "stdout",
     "output_type": "stream",
     "text": [
      "     Year              Datetime    Stage             Stadium         City  \\\n",
      "0  1930.0  13 Jul 1930 - 15:00   Group 1             Pocitos  Montevideo    \n",
      "1  1930.0  13 Jul 1930 - 15:00   Group 4      Parque Central  Montevideo    \n",
      "2  1930.0  14 Jul 1930 - 12:45   Group 2      Parque Central  Montevideo    \n",
      "3  1930.0  14 Jul 1930 - 14:50   Group 3             Pocitos  Montevideo    \n",
      "4  1930.0  15 Jul 1930 - 16:00   Group 1      Parque Central  Montevideo    \n",
      "5  1930.0  16 Jul 1930 - 14:45   Group 1      Parque Central  Montevideo    \n",
      "6  1930.0  17 Jul 1930 - 12:45   Group 2      Parque Central  Montevideo    \n",
      "7  1930.0  17 Jul 1930 - 14:45   Group 4      Parque Central  Montevideo    \n",
      "8  1930.0  18 Jul 1930 - 14:30   Group 3  Estadio Centenario  Montevideo    \n",
      "9  1930.0  19 Jul 1930 - 12:50   Group 1  Estadio Centenario  Montevideo    \n",
      "\n",
      "  Home Team Name  Home Team Goals  Away Team Goals Away Team Name  \\\n",
      "0         France              4.0              1.0         Mexico   \n",
      "1            USA              3.0              0.0        Belgium   \n",
      "2     Yugoslavia              2.0              1.0         Brazil   \n",
      "3        Romania              3.0              1.0           Peru   \n",
      "4      Argentina              1.0              0.0         France   \n",
      "5          Chile              3.0              0.0         Mexico   \n",
      "6     Yugoslavia              4.0              0.0        Bolivia   \n",
      "7            USA              3.0              0.0       Paraguay   \n",
      "8        Uruguay              1.0              0.0           Peru   \n",
      "9          Chile              1.0              0.0         France   \n",
      "\n",
      "  Win conditions  Attendance  Half-time Home Goals  Half-time Away Goals  \\\n",
      "0                     4444.0                   3.0                   0.0   \n",
      "1                    18346.0                   2.0                   0.0   \n",
      "2                    24059.0                   2.0                   0.0   \n",
      "3                     2549.0                   1.0                   0.0   \n",
      "4                    23409.0                   0.0                   0.0   \n",
      "5                     9249.0                   1.0                   0.0   \n",
      "6                    18306.0                   0.0                   0.0   \n",
      "7                    18306.0                   2.0                   0.0   \n",
      "8                    57735.0                   0.0                   0.0   \n",
      "9                     2000.0                   0.0                   0.0   \n",
      "\n",
      "                    Referee               Assistant 1  \\\n",
      "0    LOMBARDI Domingo (URU)     CRISTOPHE Henry (BEL)   \n",
      "1         MACIAS Jose (ARG)  MATEUCCI Francisco (URU)   \n",
      "2       TEJADA Anibal (URU)   VALLARINO Ricardo (URU)   \n",
      "3     WARNKEN Alberto (CHI)       LANGENUS Jean (BEL)   \n",
      "4       REGO Gilberto (BRA)      SAUCEDO Ulises (BOL)   \n",
      "5     CRISTOPHE Henry (BEL)   APHESTEGUY Martin (URU)   \n",
      "6  MATEUCCI Francisco (URU)    LOMBARDI Domingo (URU)   \n",
      "7         MACIAS Jose (ARG)   APHESTEGUY Martin (URU)   \n",
      "8       LANGENUS Jean (BEL)       BALWAY Thomas (FRA)   \n",
      "9       TEJADA Anibal (URU)    LOMBARDI Domingo (URU)   \n",
      "\n",
      "                  Assistant 2  RoundID  MatchID Home Team Initials  \\\n",
      "0         REGO Gilberto (BRA)    201.0   1096.0                FRA   \n",
      "1       WARNKEN Alberto (CHI)    201.0   1090.0                USA   \n",
      "2         BALWAY Thomas (FRA)    201.0   1093.0                YUG   \n",
      "3    MATEUCCI Francisco (URU)    201.0   1098.0                ROU   \n",
      "4  RADULESCU Constantin (ROU)    201.0   1085.0                ARG   \n",
      "5         LANGENUS Jean (BEL)    201.0   1095.0                CHI   \n",
      "6       WARNKEN Alberto (CHI)    201.0   1092.0                YUG   \n",
      "7         TEJADA Anibal (URU)    201.0   1097.0                USA   \n",
      "8       CRISTOPHE Henry (BEL)    201.0   1099.0                URU   \n",
      "9         REGO Gilberto (BRA)    201.0   1094.0                CHI   \n",
      "\n",
      "  Away Team Initials  \n",
      "0                MEX  \n",
      "1                BEL  \n",
      "2                BRA  \n",
      "3                PER  \n",
      "4                FRA  \n",
      "5                MEX  \n",
      "6                BOL  \n",
      "7                PAR  \n",
      "8                PER  \n",
      "9                FRA  \n"
     ]
    }
   ],
   "source": [
    "print(matches.head(10))"
   ]
  },
  {
   "cell_type": "code",
   "execution_count": 22,
   "metadata": {},
   "outputs": [
    {
     "name": "stdout",
     "output_type": "stream",
     "text": [
      "(4572, 20)\n",
      "(37784, 9)\n",
      "(20, 10)\n"
     ]
    }
   ],
   "source": [
    "print(matches.shape)\n",
    "print(players.shape)\n",
    "print(worldcups.shape)"
   ]
  },
  {
   "cell_type": "code",
   "execution_count": 24,
   "metadata": {},
   "outputs": [
    {
     "name": "stdout",
     "output_type": "stream",
     "text": [
      "    Year       Country      Winner      Runners-Up        Third  \\\n",
      "0   1930       Uruguay     Uruguay       Argentina          USA   \n",
      "1   1934         Italy       Italy  Czechoslovakia      Germany   \n",
      "2   1938        France       Italy         Hungary       Brazil   \n",
      "3   1950        Brazil     Uruguay          Brazil       Sweden   \n",
      "4   1954   Switzerland  Germany FR         Hungary      Austria   \n",
      "5   1958        Sweden      Brazil          Sweden       France   \n",
      "6   1962         Chile      Brazil  Czechoslovakia        Chile   \n",
      "7   1966       England     England      Germany FR     Portugal   \n",
      "8   1970        Mexico      Brazil           Italy   Germany FR   \n",
      "9   1974       Germany  Germany FR     Netherlands       Poland   \n",
      "10  1978     Argentina   Argentina     Netherlands       Brazil   \n",
      "11  1982         Spain       Italy      Germany FR       Poland   \n",
      "12  1986        Mexico   Argentina      Germany FR       France   \n",
      "13  1990         Italy  Germany FR       Argentina        Italy   \n",
      "14  1994           USA      Brazil           Italy       Sweden   \n",
      "15  1998        France      France          Brazil      Croatia   \n",
      "16  2002   Korea/Japan      Brazil         Germany       Turkey   \n",
      "17  2006       Germany       Italy          France      Germany   \n",
      "18  2010  South Africa       Spain     Netherlands      Germany   \n",
      "19  2014        Brazil     Germany       Argentina  Netherlands   \n",
      "\n",
      "            Fourth  GoalsScored  QualifiedTeams  MatchesPlayed Attendance  \n",
      "0       Yugoslavia           70              13             18    590.549  \n",
      "1          Austria           70              16             17    363.000  \n",
      "2           Sweden           84              15             18    375.700  \n",
      "3            Spain           88              13             22  1.045.246  \n",
      "4          Uruguay          140              16             26    768.607  \n",
      "5       Germany FR          126              16             35    819.810  \n",
      "6       Yugoslavia           89              16             32    893.172  \n",
      "7     Soviet Union           89              16             32  1.563.135  \n",
      "8          Uruguay           95              16             32  1.603.975  \n",
      "9           Brazil           97              16             38  1.865.753  \n",
      "10           Italy          102              16             38  1.545.791  \n",
      "11          France          146              24             52  2.109.723  \n",
      "12         Belgium          132              24             52  2.394.031  \n",
      "13         England          115              24             52  2.516.215  \n",
      "14        Bulgaria          141              24             52  3.587.538  \n",
      "15     Netherlands          171              32             64  2.785.100  \n",
      "16  Korea Republic          161              32             64  2.705.197  \n",
      "17        Portugal          147              32             64  3.359.439  \n",
      "18         Uruguay          145              32             64  3.178.856  \n",
      "19          Brazil          171              32             64  3.386.810  \n"
     ]
    }
   ],
   "source": [
    "print(worldcups.head(22))"
   ]
  },
  {
   "cell_type": "code",
   "execution_count": 30,
   "metadata": {},
   "outputs": [],
   "source": [
    "data = matches[['Home Team Name', 'Home Team Goals', 'Away Team Goals','Away Team Name']]"
   ]
  },
  {
   "cell_type": "code",
   "execution_count": 36,
   "metadata": {},
   "outputs": [
    {
     "name": "stdout",
     "output_type": "stream",
     "text": [
      "  Home Team Name  Home Team Goals  Away Team Goals Away Team Name\n",
      "0         France              4.0              1.0         Mexico\n",
      "1            USA              3.0              0.0        Belgium\n",
      "2     Yugoslavia              2.0              1.0         Brazil\n",
      "3        Romania              3.0              1.0           Peru\n",
      "4      Argentina              1.0              0.0         France\n",
      "5          Chile              3.0              0.0         Mexico\n",
      "6     Yugoslavia              4.0              0.0        Bolivia\n",
      "7            USA              3.0              0.0       Paraguay\n",
      "8        Uruguay              1.0              0.0           Peru\n",
      "9          Chile              1.0              0.0         France\n"
     ]
    }
   ],
   "source": [
    "print(data.head(10))"
   ]
  },
  {
   "cell_type": "code",
   "execution_count": 40,
   "metadata": {},
   "outputs": [
    {
     "name": "stdout",
     "output_type": "stream",
     "text": [
      "   RoundID  MatchID Team Initials           Coach Name Line-up  Shirt Number  \\\n",
      "0      201     1096           FRA  CAUDRON Raoul (FRA)       S             0   \n",
      "1      201     1096           MEX     LUQUE Juan (MEX)       S             0   \n",
      "2      201     1096           FRA  CAUDRON Raoul (FRA)       S             0   \n",
      "3      201     1096           MEX     LUQUE Juan (MEX)       S             0   \n",
      "4      201     1096           FRA  CAUDRON Raoul (FRA)       S             0   \n",
      "5      201     1096           MEX     LUQUE Juan (MEX)       S             0   \n",
      "6      201     1096           FRA  CAUDRON Raoul (FRA)       S             0   \n",
      "7      201     1096           MEX     LUQUE Juan (MEX)       S             0   \n",
      "8      201     1096           FRA  CAUDRON Raoul (FRA)       S             0   \n",
      "9      201     1096           MEX     LUQUE Juan (MEX)       S             0   \n",
      "\n",
      "        Player Name Position      Event  \n",
      "0       Alex THEPOT       GK        NaN  \n",
      "1   Oscar BONFIGLIO       GK        NaN  \n",
      "2  Marcel LANGILLER      NaN       G40'  \n",
      "3      Juan CARRENO      NaN       G70'  \n",
      "4   Ernest LIBERATI      NaN        NaN  \n",
      "5      Rafael GARZA        C        NaN  \n",
      "6   Andre MASCHINOT      NaN  G43' G87'  \n",
      "7     Hilario LOPEZ      NaN        NaN  \n",
      "8   Etienne MATTLER      NaN        NaN  \n",
      "9    Dionisio MEJIA      NaN        NaN  \n"
     ]
    }
   ],
   "source": [
    "print(players.head(10))"
   ]
  },
  {
   "cell_type": "code",
   "execution_count": 50,
   "metadata": {},
   "outputs": [],
   "source": [
    "player = players [players['Player Name']=='Lionel MESSI']"
   ]
  },
  {
   "cell_type": "code",
   "execution_count": 51,
   "metadata": {},
   "outputs": [
    {
     "name": "stdout",
     "output_type": "stream",
     "text": [
      "Empty DataFrame\n",
      "Columns: [RoundID, MatchID, Team Initials, Coach Name, Line-up, Shirt Number, Player Name, Position, Event]\n",
      "Index: []\n"
     ]
    }
   ],
   "source": [
    "print(player.head(2))"
   ]
  }
 ],
 "metadata": {
  "kernelspec": {
   "display_name": "Python 3",
   "language": "python",
   "name": "python3"
  },
  "language_info": {
   "codemirror_mode": {
    "name": "ipython",
    "version": 3
   },
   "file_extension": ".py",
   "mimetype": "text/x-python",
   "name": "python",
   "nbconvert_exporter": "python",
   "pygments_lexer": "ipython3",
   "version": "3.7.0"
  }
 },
 "nbformat": 4,
 "nbformat_minor": 2
}
